{
 "cells": [
  {
   "cell_type": "markdown",
   "id": "182d8111-7982-4261-afc0-d751abb28207",
   "metadata": {},
   "source": [
    "Write a Python program to check if a given number is positive or negative"
   ]
  },
  {
   "cell_type": "code",
   "execution_count": 44,
   "id": "2782c77a-b09a-4fd9-9f28-505c5de616a6",
   "metadata": {},
   "outputs": [
    {
     "name": "stdout",
     "output_type": "stream",
     "text": [
      "enter number is negative\n"
     ]
    }
   ],
   "source": [
    "number=-11\n",
    "\n",
    "if(number>=0):\n",
    "    if(number==0):\n",
    "      print(\"enter number is 0\")\n",
    "    else:\n",
    "        print(\"enter number is postive\")\n",
    "else:\n",
    "    print(\"enter number is negative\")\n",
    "    \n"
   ]
  },
  {
   "cell_type": "code",
   "execution_count": 47,
   "id": "28c066af-f322-4f0b-b226-cf5f1d8d20cf",
   "metadata": {},
   "outputs": [
    {
     "name": "stdout",
     "output_type": "stream",
     "text": [
      "number is positive\n"
     ]
    }
   ],
   "source": [
    "number=11\n",
    "\n",
    "if(number>=0):\n",
    "    if number==0:\n",
    "        print(\"number is 0\")\n",
    "    else:\n",
    "        print(\"number is positive\")\n",
    "else:\n",
    "    print(\"number is negative\")"
   ]
  },
  {
   "cell_type": "markdown",
   "id": "7d5b3e77-f0bf-4eb2-a6cc-cb72925aadd9",
   "metadata": {},
   "source": [
    "Create a program that determines if a person is eligible to vote based on their age.\n"
   ]
  },
  {
   "cell_type": "code",
   "execution_count": 55,
   "id": "ad4c72d8-2f84-4d07-9fb7-d77b3a877ed9",
   "metadata": {},
   "outputs": [
    {
     "name": "stdin",
     "output_type": "stream",
     "text": [
      "Enter age :   19\n"
     ]
    },
    {
     "name": "stdout",
     "output_type": "stream",
     "text": [
      "eligible to vote\n"
     ]
    }
   ],
   "source": [
    "age =int(input(\"Enter age :  \"))\n",
    "\n",
    "if age>18:\n",
    "    print(\"eligible to vote\")\n",
    "else:\n",
    "    print(\"not eligible to vote\")\n",
    "    "
   ]
  },
  {
   "cell_type": "code",
   "execution_count": 56,
   "id": "d0874295-8051-4c4f-b77b-dc1b82ef9cba",
   "metadata": {},
   "outputs": [
    {
     "name": "stdin",
     "output_type": "stream",
     "text": [
      "Enter age :   17\n"
     ]
    },
    {
     "name": "stdout",
     "output_type": "stream",
     "text": [
      "not eligible to vote\n"
     ]
    }
   ],
   "source": [
    "age =int(input(\"Enter age :  \"))\n",
    "\n",
    "if age>18:\n",
    "    print(\"eligible to vote\")\n",
    "else:\n",
    "    print(\"not eligible to vote\")\n",
    "    "
   ]
  },
  {
   "cell_type": "markdown",
   "id": "fc276ff0-c4db-4ebb-aeef-a4e3c24bc06c",
   "metadata": {},
   "source": [
    "Develop a program to find the maximum of two numbers using if-else statements.\n"
   ]
  },
  {
   "cell_type": "code",
   "execution_count": 62,
   "id": "79fb0bba-0b17-4d25-add9-59d7bda182c6",
   "metadata": {},
   "outputs": [
    {
     "name": "stdout",
     "output_type": "stream",
     "text": [
      "b\n"
     ]
    }
   ],
   "source": [
    "a=2\n",
    "b=4\n",
    "\n",
    "if (a>=b):\n",
    "    print(\"a\")\n",
    "else:\n",
    "    print(\"b\")\n",
    "    \n"
   ]
  },
  {
   "cell_type": "code",
   "execution_count": 63,
   "id": "7bc06e7c-6220-47b9-93f5-e5140bb414d4",
   "metadata": {},
   "outputs": [
    {
     "name": "stdout",
     "output_type": "stream",
     "text": [
      "a\n"
     ]
    }
   ],
   "source": [
    "a=20\n",
    "b=4\n",
    "\n",
    "if (a>=b):\n",
    "    print(\"a\")\n",
    "else:\n",
    "    print(\"b\")\n",
    "    "
   ]
  },
  {
   "cell_type": "markdown",
   "id": "c1cbab27-707c-42ad-8f0e-81797fa52d25",
   "metadata": {},
   "source": [
    "Write a Python script to classify a given year as a leap year or not.\n",
    "\n"
   ]
  },
  {
   "cell_type": "code",
   "execution_count": 67,
   "id": "37053ef7-4c13-4308-be30-f5c93504b121",
   "metadata": {},
   "outputs": [
    {
     "name": "stdout",
     "output_type": "stream",
     "text": [
      "a leap year\n"
     ]
    }
   ],
   "source": [
    "year =2000\n",
    "\n",
    "if (year%400==0) or (year%4==0 and year%100!=0):\n",
    "    print(\"a leap year\")\n",
    "else:\n",
    "    print(\"not a leap year\")"
   ]
  },
  {
   "cell_type": "code",
   "execution_count": 68,
   "id": "547fe1f3-46c9-4e35-9bbd-e62424d97213",
   "metadata": {},
   "outputs": [
    {
     "name": "stdout",
     "output_type": "stream",
     "text": [
      "not a leap year\n"
     ]
    }
   ],
   "source": [
    "year =2023\n",
    "\n",
    "if (year%400==0) or (year%4==0 and year%100!=0):\n",
    "    print(\"a leap year\")\n",
    "else:\n",
    "    print(\"not a leap year\")"
   ]
  },
  {
   "cell_type": "markdown",
   "id": "3cd0a896-8588-4f1d-842c-f16d55a2594a",
   "metadata": {},
   "source": [
    "Create a program that checks whether a character is a vowel or a consonant.\n"
   ]
  },
  {
   "cell_type": "code",
   "execution_count": 103,
   "id": "2a60b75e-5f38-49b5-8b22-142622048a51",
   "metadata": {},
   "outputs": [
    {
     "name": "stdout",
     "output_type": "stream",
     "text": [
      "a character is a vowel\n"
     ]
    }
   ],
   "source": [
    "ch=\"i\"\n",
    "\n",
    "if(ch ==\"a\" or ch == \"e\" or ch==\"i\" or ch== \"o\" or ch == \"u\"):\n",
    "    print(\"a character is a vowel\")\n",
    "else:\n",
    "    print(\"a character is a consonant\")"
   ]
  },
  {
   "cell_type": "code",
   "execution_count": 8,
   "id": "1e11a3dc-0688-46db-9922-33db4f55f3b0",
   "metadata": {},
   "outputs": [
    {
     "name": "stdout",
     "output_type": "stream",
     "text": [
      "a character is a consonant\n"
     ]
    }
   ],
   "source": [
    "ch=\"x\"\n",
    "\n",
    "if(ch ==\"a\" or ch == \"e\" or ch==\"i\" or ch== \"o\" or ch == \"u\"):\n",
    "    print(\"a character is a vowel\")\n",
    "else:\n",
    "    print(\"a character is a consonant\")"
   ]
  },
  {
   "cell_type": "markdown",
   "id": "b7551d51-3dad-4151-955a-5dbe97c0c4eb",
   "metadata": {},
   "source": [
    "Implement a program to determine whether a given number is even or odd.\n",
    "\n",
    "\n"
   ]
  },
  {
   "cell_type": "code",
   "execution_count": 121,
   "id": "058b4937-ffad-4aee-875a-cb62278b41d4",
   "metadata": {},
   "outputs": [
    {
     "name": "stdin",
     "output_type": "stream",
     "text": [
      "enter the number 3\n"
     ]
    },
    {
     "name": "stdout",
     "output_type": "stream",
     "text": [
      "number is odd\n"
     ]
    }
   ],
   "source": [
    "number=int(input(\"enter the number\"))\n",
    "if number%2==0:\n",
    "    print(\"number is even\")  \n",
    "else:\n",
    "     print(\"number is odd\")\n",
    "    "
   ]
  },
  {
   "cell_type": "markdown",
   "id": "bb722535-3796-4f74-bd1e-e8639902b601",
   "metadata": {},
   "source": [
    "Develop a program that determines the largest of three given numbers using if-else statements.\n",
    "\n"
   ]
  },
  {
   "cell_type": "code",
   "execution_count": 3,
   "id": "8a477836-04ab-4644-a7f1-ca57b94b6d0c",
   "metadata": {},
   "outputs": [
    {
     "name": "stdout",
     "output_type": "stream",
     "text": [
      "largest number is 30\n"
     ]
    }
   ],
   "source": [
    "num1=10\n",
    "num2=20\n",
    "num3=30\n",
    "\n",
    "if(num1>=num2) and (num1>=num3):\n",
    "  largest=num1\n",
    "  print (\"largest number is\", largest)\n",
    "elif(num2>=num3) and (num2>=num1):\n",
    "  largest=num2\n",
    "  print (\"largest number is\", largest)\n",
    "else:\n",
    "  largest=num3\n",
    "  print (\"largest number is\", largest)\n",
    "\n"
   ]
  },
  {
   "cell_type": "markdown",
   "id": "1720ba34-bbdc-42eb-86bc-74f280fb5877",
   "metadata": {},
   "source": [
    "Write a Python program to calculate the grade based on a student's score.\n"
   ]
  },
  {
   "cell_type": "code",
   "execution_count": 7,
   "id": "5b429eed-686f-44c5-83d1-c7d279d1151a",
   "metadata": {},
   "outputs": [
    {
     "name": "stdout",
     "output_type": "stream",
     "text": [
      "excllent perfomance your grade A\n"
     ]
    }
   ],
   "source": [
    "score=80\n",
    "if score>=90:\n",
    "    print(\"excllent perfomance your grade A+\")\n",
    "elif score>=80:\n",
    "    print(\"excllent perfomance your grade A\")\n",
    "elif score>=70:\n",
    "    print(\"excllent perfomance your grade B+\")\n",
    "elif score>=60:\n",
    "    print(\"excllent perfomance your grade B\")\n",
    "elif score>=50:\n",
    "    print(\"excllent perfomance your grade C+\")\n",
    "else:\n",
    "    print(\"excllent perfomance your grade c\")\n"
   ]
  },
  {
   "cell_type": "markdown",
   "id": "764379a7-7838-4fbf-a73e-307ac7971409",
   "metadata": {},
   "source": [
    "Write a program to find the largest among three numbers using nested if-else statements.\n",
    "\n"
   ]
  },
  {
   "cell_type": "code",
   "execution_count": 8,
   "id": "2b8ef202-f878-40a9-818f-cfd47725bc93",
   "metadata": {},
   "outputs": [
    {
     "name": "stdout",
     "output_type": "stream",
     "text": [
      "largest number is 80\n"
     ]
    }
   ],
   "source": [
    "num1=10\n",
    "num2=80\n",
    "num3=30\n",
    "\n",
    "if(num1>=num2) and (num1>=num3):\n",
    "  largest=num1\n",
    "  print (\"largest number is\", largest)\n",
    "elif(num2>=num3) and (num2>=num1):\n",
    "  largest=num2\n",
    "  print (\"largest number is\", largest)\n",
    "else:\n",
    "  largest=num3\n",
    "  print (\"largest number is\", largest)\n"
   ]
  },
  {
   "cell_type": "markdown",
   "id": "a369cdb0-22df-45e6-87c6-90fafb3e334e",
   "metadata": {},
   "source": [
    "Implement a program to determine if a triangle is equilateral, isosceles, or scalene.\n"
   ]
  },
  {
   "cell_type": "code",
   "execution_count": 1,
   "id": "57f47133-500e-44b5-b90d-ea225c6a8ce7",
   "metadata": {},
   "outputs": [
    {
     "name": "stdout",
     "output_type": "stream",
     "text": [
      "Scalene Triangle\n"
     ]
    }
   ],
   "source": [
    "x=10\n",
    "y=20\n",
    "z=30\n",
    "\n",
    "if(x==y==z):\n",
    "    print(\"a triangle is equilateral\")\n",
    "elif(x == y or x == z or y == z ):\n",
    "     print(\"a triangle is isosceles\")\n",
    "else:\n",
    "    print(\"Scalene Triangle\")"
   ]
  },
  {
   "cell_type": "code",
   "execution_count": 2,
   "id": "0960a4e4-17c9-4915-9b34-b9d8b1a10c41",
   "metadata": {},
   "outputs": [
    {
     "name": "stdout",
     "output_type": "stream",
     "text": [
      "a triangle is equilateral\n"
     ]
    }
   ],
   "source": [
    "x=10\n",
    "y=10\n",
    "z=10\n",
    "\n",
    "if(x==y==z):\n",
    "    print(\"a triangle is equilateral\")\n",
    "elif(x == y or x == z or y == z ):\n",
    "     print(\"a triangle is isosceles\")\n",
    "else:\n",
    "    print(\"Scalene Triangle\")"
   ]
  },
  {
   "cell_type": "code",
   "execution_count": 3,
   "id": "c9bcad40-ad5b-4d62-9ad5-5ff7dc0a0241",
   "metadata": {},
   "outputs": [
    {
     "name": "stdout",
     "output_type": "stream",
     "text": [
      "a triangle is isosceles\n"
     ]
    }
   ],
   "source": [
    "x=10\n",
    "y=20\n",
    "z=10\n",
    "\n",
    "if(x==y==z):\n",
    "    print(\"a triangle is equilateral\")\n",
    "elif(x == y or x == z or y == z ):\n",
    "     print(\"a triangle is isosceles\")\n",
    "else:\n",
    "    print(\"Scalene Triangle\")"
   ]
  },
  {
   "cell_type": "markdown",
   "id": "a0255180-08c5-4fbd-9fed-ff0e02c5c91e",
   "metadata": {},
   "source": [
    "Develop a program that checks if a year is a leap year and also if it is a century year.\n",
    "\n"
   ]
  },
  {
   "cell_type": "code",
   "execution_count": 13,
   "id": "947f480b-f620-43fa-aa8f-b6fc56e13594",
   "metadata": {},
   "outputs": [
    {
     "name": "stdout",
     "output_type": "stream",
     "text": [
      "a leap year\n"
     ]
    }
   ],
   "source": [
    "year =2020\n",
    "\n",
    "if (year%400==0) or (year%4==0 and year%100!=0):\n",
    "    print(\"a leap year\")\n",
    "elif(year%100==0):\n",
    "    print(\"not a century year\")"
   ]
  },
  {
   "cell_type": "code",
   "execution_count": 16,
   "id": "e688ebce-17c6-4420-8d0c-8434cc4d24eb",
   "metadata": {},
   "outputs": [
    {
     "name": "stdout",
     "output_type": "stream",
     "text": [
      "not a century year\n"
     ]
    }
   ],
   "source": [
    "year =100\n",
    "\n",
    "if (year%400==0) or (year%4==0 and year%100!=0):\n",
    "    print(\"a leap year\")\n",
    "elif(year%100==0):\n",
    "    print(\"not a century year\")"
   ]
  },
  {
   "cell_type": "markdown",
   "id": "c036adb1-7551-4498-95fb-d0a178c1df8d",
   "metadata": {},
   "source": [
    "Write a Python script to determine if a number is positive, negative, or zero.\n",
    "\n"
   ]
  },
  {
   "cell_type": "code",
   "execution_count": 4,
   "id": "08a2175d-cd1f-4f91-9d31-b28726b4f99c",
   "metadata": {},
   "outputs": [
    {
     "name": "stdin",
     "output_type": "stream",
     "text": [
      "Enter a number as input value -12\n"
     ]
    },
    {
     "name": "stdout",
     "output_type": "stream",
     "text": [
      "Number given by you is Negative\n"
     ]
    }
   ],
   "source": [
    "a=int(input(\"Enter a number as input value\"))\n",
    "if a > 0:   \n",
    "        print(\"Number given by you is Positive\")     \n",
    "elif a < 0:   \n",
    "     print(\"Number given by you is Negative\")     \n",
    "else:   \n",
    "     print(\"Number given by you is zero\")  \n"
   ]
  },
  {
   "cell_type": "markdown",
   "id": "f6f2727f-8f85-4e47-ab7d-88e4e760d956",
   "metadata": {},
   "source": [
    "Create a program to check if a person is a teenager (between 13 and 19 years old).\n"
   ]
  },
  {
   "cell_type": "code",
   "execution_count": 1,
   "id": "69e666e0-c22e-497c-99e1-b1bc4af630eb",
   "metadata": {},
   "outputs": [
    {
     "name": "stdin",
     "output_type": "stream",
     "text": [
      "Enter tha age 18\n"
     ]
    },
    {
     "name": "stdout",
     "output_type": "stream",
     "text": [
      " a person is a teenager\n"
     ]
    }
   ],
   "source": [
    "age=int(input(\"Enter tha age\"))\n",
    "\n",
    "if(age>=13 and age<=19):\n",
    "    print(\" a person is a teenager\")\n",
    "else:\n",
    "    print(\" a person is a not teenager\")\n",
    "    "
   ]
  },
  {
   "cell_type": "code",
   "execution_count": 3,
   "id": "08f769b7-af62-4fa2-b915-c5597133c554",
   "metadata": {},
   "outputs": [
    {
     "name": "stdin",
     "output_type": "stream",
     "text": [
      "Enter tha age 20\n"
     ]
    },
    {
     "name": "stdout",
     "output_type": "stream",
     "text": [
      " a person is a not teenager\n"
     ]
    }
   ],
   "source": [
    "age=int(input(\"Enter tha age\"))\n",
    "\n",
    "if(age>=13 and age<=19):\n",
    "    print(\" a person is a teenager\")\n",
    "else:\n",
    "    print(\" a person is a not teenager\")\n",
    "    \n",
    "    "
   ]
  },
  {
   "cell_type": "markdown",
   "id": "2dbd4a79-1a3d-47ad-8281-7264cfc5a37a",
   "metadata": {},
   "source": [
    "Develop a program that determines the type of angle based on its measure (acute, obtuse, or right).\n"
   ]
  },
  {
   "cell_type": "code",
   "execution_count": 6,
   "id": "55d863a8-9973-4c81-8f02-90e45684b1cd",
   "metadata": {},
   "outputs": [
    {
     "name": "stdout",
     "output_type": "stream",
     "text": [
      "The triangle is an acte triangle\n"
     ]
    }
   ],
   "source": [
    "a=10\n",
    "b=20\n",
    "c=4\n",
    "\n",
    "if (a**2+b**2>c**2):\n",
    "    print(\"The triangle is an acte triangle\")\n",
    "if (a**2+b**2<c**2):\n",
    "    print(\"The triangle is an obtuse triangle\")"
   ]
  },
  {
   "cell_type": "code",
   "execution_count": 7,
   "id": "febd76ee-ddb7-4e76-a647-ec2a526a306e",
   "metadata": {},
   "outputs": [
    {
     "name": "stdout",
     "output_type": "stream",
     "text": [
      "The triangle is an obtuse triangle\n"
     ]
    }
   ],
   "source": [
    "a=10\n",
    "b=20\n",
    "c=60\n",
    "\n",
    "if (a**2+b**2>c**2):\n",
    "    print(\"The triangle is an acte triangle\")\n",
    "if (a**2+b**2<c**2):\n",
    "    print(\"The triangle is an obtuse triangle\")"
   ]
  },
  {
   "cell_type": "markdown",
   "id": "affc7047-1b06-41c4-97dd-2cbecf76f9b7",
   "metadata": {},
   "source": [
    "Implement a program to determine the day of the week based on a user-provided number (1 for Monday, 2\n",
    "for Tuesday, etc.).\n"
   ]
  },
  {
   "cell_type": "code",
   "execution_count": 11,
   "id": "d598e973-c44c-4c56-9193-e40856f69fe5",
   "metadata": {},
   "outputs": [
    {
     "name": "stdin",
     "output_type": "stream",
     "text": [
      "enter the value 1 to 7: 6\n"
     ]
    },
    {
     "name": "stdout",
     "output_type": "stream",
     "text": [
      "6 for Saturday\n"
     ]
    }
   ],
   "source": [
    "day=int(input(\"enter the value 1 to 7:\"))\n",
    "\n",
    "if day==1:\n",
    "     print(day,\"for Monday\")\n",
    "if day==2:\n",
    "     print(day,\"for Tuesday\")\n",
    "if day==3:\n",
    "     print(day,\"for Wednesday\")\n",
    "if day==4:\n",
    "     print(day,\"for Thursday\")\n",
    "if day==5:\n",
    "     print(day,\"for Friday\")\n",
    "if day==6:\n",
    "     print(day,\"for Saturday\")\n",
    "if day==7:\n",
    "     print(day,\"for Sunday\")\n",
    "\n",
    "        "
   ]
  },
  {
   "cell_type": "code",
   "execution_count": 13,
   "id": "e001113f-62d5-485b-9447-d1d3c131b3b0",
   "metadata": {},
   "outputs": [
    {
     "name": "stdin",
     "output_type": "stream",
     "text": [
      "enter the value 1 to 7: 5\n"
     ]
    },
    {
     "name": "stdout",
     "output_type": "stream",
     "text": [
      "5 for Friday\n"
     ]
    }
   ],
   "source": [
    "day=int(input(\"enter the value 1 to 7:\"))\n",
    "\n",
    "if day==1:\n",
    "     print(day,\"for Monday\")\n",
    "if day==2:\n",
    "     print(day,\"for Tuesday\")\n",
    "if day==3:\n",
    "     print(day,\"for Wednesday\")\n",
    "if day==4:\n",
    "     print(day,\"for Thursday\")\n",
    "if day==5:\n",
    "     print(day,\"for Friday\")\n",
    "if day==6:\n",
    "     print(day,\"for Saturday\")\n",
    "if day==7:\n",
    "     print(day,\"for Sunday\")"
   ]
  },
  {
   "cell_type": "code",
   "execution_count": 14,
   "id": "6c2ce36e-b452-4db4-8c3e-d105365e5559",
   "metadata": {},
   "outputs": [
    {
     "name": "stdin",
     "output_type": "stream",
     "text": [
      "enter the value 1 to 7: 2\n"
     ]
    },
    {
     "name": "stdout",
     "output_type": "stream",
     "text": [
      "2 for Tuesday\n"
     ]
    }
   ],
   "source": [
    "day=int(input(\"enter the value 1 to 7:\"))\n",
    "\n",
    "if day==1:\n",
    "     print(day,\"for Monday\")\n",
    "if day==2:\n",
    "     print(day,\"for Tuesday\")\n",
    "if day==3:\n",
    "     print(day,\"for Wednesday\")\n",
    "if day==4:\n",
    "     print(day,\"for Thursday\")\n",
    "if day==5:\n",
    "     print(day,\"for Friday\")\n",
    "if day==6:\n",
    "     print(day,\"for Saturday\")\n",
    "if day==7:\n",
    "     print(day,\"for Sunday\")"
   ]
  },
  {
   "cell_type": "markdown",
   "id": "c58a9c7b-30be-4218-a5fe-18c4f20b6a9a",
   "metadata": {},
   "source": [
    "Create a program that determines if a year is a leap year and also if it is evenly divisible by 400.\n"
   ]
  },
  {
   "cell_type": "code",
   "execution_count": 15,
   "id": "65734614-ef81-4112-af91-e5a427e88fb5",
   "metadata": {},
   "outputs": [
    {
     "name": "stdout",
     "output_type": "stream",
     "text": [
      "a leap year\n"
     ]
    }
   ],
   "source": [
    "year =2020\n",
    "\n",
    "if (year%400==0) or (year%4==0 and year%100!=0):\n",
    "    print(\"a leap year\")\n",
    "elif(year%100==0):\n",
    "    print(\"not a century year\")"
   ]
  },
  {
   "cell_type": "markdown",
   "id": "0d691668-9a89-40a1-a4dc-0876340c50fb",
   "metadata": {},
   "source": [
    "Write a Python program to assign grades based on different ranges of scores using elif statements.\n"
   ]
  },
  {
   "cell_type": "code",
   "execution_count": 17,
   "id": "e77272c8-ab73-400a-ab84-4522b653371d",
   "metadata": {},
   "outputs": [
    {
     "name": "stdout",
     "output_type": "stream",
     "text": [
      "excllent perfomance your grade A+\n"
     ]
    }
   ],
   "source": [
    "score=90\n",
    "if score>=90:\n",
    "    print(\"excllent perfomance your grade A+\")\n",
    "elif score>=80:\n",
    "    print(\"excllent perfomance your grade A\")\n",
    "elif score>=70:\n",
    "    print(\"excllent perfomance your grade B+\")\n",
    "elif score>=60:\n",
    "    print(\"excllent perfomance your grade B\")\n",
    "elif score>=50:\n",
    "    print(\"excllent perfomance your grade C+\")\n",
    "else:\n",
    "    print(\"excllent perfomance your grade c\")\n"
   ]
  },
  {
   "cell_type": "markdown",
   "id": "326fb55b-3a8b-41ef-9daf-246eccfdf9cf",
   "metadata": {},
   "source": [
    "Develop a program to categorize a given person's BMI into underweight, normal, overweight, or obese using\n",
    "elif statements.\n"
   ]
  },
  {
   "cell_type": "code",
   "execution_count": 21,
   "id": "d3da1d48-d668-4a5d-9bdf-7356f1e3dcda",
   "metadata": {},
   "outputs": [
    {
     "name": "stdout",
     "output_type": "stream",
     "text": [
      "You are underweight.\n"
     ]
    }
   ],
   "source": [
    "bmi=10\n",
    "\n",
    "\n",
    "if bmi <= 18.5:\n",
    "    print(\"You are underweight.\")\n",
    "elif 18.5 < bmi <= 24.9:\n",
    "    print(\"Your weight is normal.\")\n",
    "elif 25 < bmi <= 29.29:\n",
    "    print(\"You are overweight.\")\n",
    "else:\n",
    "    print(\"You are obese.\")\n"
   ]
  },
  {
   "cell_type": "code",
   "execution_count": 22,
   "id": "b76eb3ad-c087-4d47-9404-68489d24adfd",
   "metadata": {},
   "outputs": [
    {
     "name": "stdout",
     "output_type": "stream",
     "text": [
      "Your weight is normal.\n"
     ]
    }
   ],
   "source": [
    "bmi=20\n",
    "\n",
    "\n",
    "if bmi <= 18.5:\n",
    "    print(\"You are underweight.\")\n",
    "elif 18.5 < bmi <= 24.9:\n",
    "    print(\"Your weight is normal.\")\n",
    "elif 25 < bmi <= 29.29:\n",
    "    print(\"You are overweight.\")\n",
    "else:\n",
    "    print(\"You are obese.\")"
   ]
  },
  {
   "cell_type": "code",
   "execution_count": 23,
   "id": "4a1ec1f8-b010-4f28-b141-425086ac23c4",
   "metadata": {},
   "outputs": [
    {
     "name": "stdout",
     "output_type": "stream",
     "text": [
      "You are obese.\n"
     ]
    }
   ],
   "source": [
    "bmi=40\n",
    "\n",
    "\n",
    "if bmi <= 18.5:\n",
    "    print(\"You are underweight.\")\n",
    "elif 18.5 < bmi <= 24.9:\n",
    "    print(\"Your weight is normal.\")\n",
    "elif 25 < bmi <= 29.29:\n",
    "    print(\"You are overweight.\")\n",
    "else:\n",
    "    print(\"You are obese.\")"
   ]
  },
  {
   "cell_type": "markdown",
   "id": "df2861a4-7c26-4cc0-bb0c-ebd2fd651e30",
   "metadata": {},
   "source": [
    "Create a program that determines whether a given number is positive, negative, or zero using elif\n",
    "statements.\n",
    "\n"
   ]
  },
  {
   "cell_type": "code",
   "execution_count": 1,
   "id": "4e40e8e7-8145-4dc9-a054-e68e989a76ca",
   "metadata": {},
   "outputs": [
    {
     "name": "stdin",
     "output_type": "stream",
     "text": [
      "Enter a number:  0\n"
     ]
    },
    {
     "name": "stdout",
     "output_type": "stream",
     "text": [
      "Number is zero.\n"
     ]
    }
   ],
   "source": [
    "number = float(input(\"Enter a number: \"))\n",
    "\n",
    "if number > 0:\n",
    "  print(\"Number is positive.\")\n",
    "elif number < 0:\n",
    "  print(\"Number is negative.\")\n",
    "else:\n",
    "  print(\"Number is zero.\")"
   ]
  },
  {
   "cell_type": "code",
   "execution_count": 2,
   "id": "bc6d1664-8697-44ce-9f57-721f0fbdded9",
   "metadata": {},
   "outputs": [
    {
     "name": "stdin",
     "output_type": "stream",
     "text": [
      "Enter a number:  10\n"
     ]
    },
    {
     "name": "stdout",
     "output_type": "stream",
     "text": [
      "Number is positive.\n"
     ]
    }
   ],
   "source": [
    "number = float(input(\"Enter a number: \"))\n",
    "\n",
    "if number > 0:\n",
    "  print(\"Number is positive.\")\n",
    "elif number < 0:\n",
    "  print(\"Number is negative.\")\n",
    "else:\n",
    "  print(\"Number is zero.\")"
   ]
  },
  {
   "cell_type": "code",
   "execution_count": 3,
   "id": "59577495-4100-4c64-a079-d5809eda0ca0",
   "metadata": {},
   "outputs": [
    {
     "name": "stdin",
     "output_type": "stream",
     "text": [
      "Enter a number:  -20\n"
     ]
    },
    {
     "name": "stdout",
     "output_type": "stream",
     "text": [
      "Number is negative.\n"
     ]
    }
   ],
   "source": [
    "number = float(input(\"Enter a number: \"))\n",
    "\n",
    "if number > 0:\n",
    "  print(\"Number is positive.\")\n",
    "elif number < 0:\n",
    "  print(\"Number is negative.\")\n",
    "else:\n",
    "  print(\"Number is zero.\")"
   ]
  },
  {
   "cell_type": "markdown",
   "id": "a2280fe3-46d1-4dfb-906f-af70330d7cd5",
   "metadata": {},
   "source": [
    "Write a Python script to determine the type of a character (uppercase, lowercase, or special) using elif\n",
    "statements.\n"
   ]
  },
  {
   "cell_type": "code",
   "execution_count": 5,
   "id": "cff2a247-7229-491a-91df-40735066aa27",
   "metadata": {},
   "outputs": [
    {
     "name": "stdout",
     "output_type": "stream",
     "text": [
      "uppercase\n",
      "lowercase\n",
      "special\n"
     ]
    }
   ],
   "source": [
    "def char_type(c):\n",
    "  if c.isupper():\n",
    "    return \"uppercase\"\n",
    "  elif c.islower():\n",
    "    return \"lowercase\"\n",
    "  else:\n",
    "    return \"special\"\n",
    "\n",
    "print(char_type('KAPIL'))  # uppercase\n",
    "print(char_type('kapil'))  # lowercase\n",
    "print(char_type('!'))  # special"
   ]
  },
  {
   "cell_type": "markdown",
   "id": "2e99422b-1ce3-45ce-aa4b-dbfdc9d942f4",
   "metadata": {},
   "source": [
    "Implement a program to calculate the discounted price based on different purchase amounts using elif\n",
    "statements.\n"
   ]
  },
  {
   "cell_type": "code",
   "execution_count": 6,
   "id": "0c643f11-8061-438f-b31e-93bed1e00ee1",
   "metadata": {},
   "outputs": [
    {
     "name": "stdin",
     "output_type": "stream",
     "text": [
      "Enter the purchase amount:  1000\n"
     ]
    },
    {
     "name": "stdout",
     "output_type": "stream",
     "text": [
      "The discounted price is $ 900.0\n"
     ]
    }
   ],
   "source": [
    "price = float(input(\"Enter the purchase amount: \"))\n",
    "\n",
    "if price >= 1000:\n",
    "    discount = 0.10\n",
    "elif price >= 500:\n",
    "    discount = 0.05\n",
    "elif price >= 200:\n",
    "    discount = 0.02\n",
    "else:\n",
    "    discount = 0.00\n",
    "\n",
    "discounted_price = price - (price * discount)\n",
    "\n",
    "print(\"The discounted price is $\", discounted_price)"
   ]
  },
  {
   "cell_type": "markdown",
   "id": "0167e222-0921-4f92-a673-2b91839ba2e4",
   "metadata": {},
   "source": [
    "Develop a program to calculate the electricity bill based on different consumption slabs using elif\n",
    "statements.\n"
   ]
  },
  {
   "cell_type": "code",
   "execution_count": 7,
   "id": "6612626b-5aec-4a7c-9916-2ef4d145461f",
   "metadata": {},
   "outputs": [
    {
     "name": "stdin",
     "output_type": "stream",
     "text": [
      "Enter the number of units consumed:  300\n"
     ]
    },
    {
     "name": "stdout",
     "output_type": "stream",
     "text": [
      "The electricity bill is: 1400.5\n"
     ]
    }
   ],
   "source": [
    "# Import the required libraries\n",
    "import math\n",
    "\n",
    "# Define the function to calculate the electricity bill\n",
    "def calculate_electricity_bill(units):\n",
    "\n",
    "  # Initialize the bill amount\n",
    "  bill_amount = 0\n",
    "\n",
    "  # Check the consumption slab\n",
    "  if units <= 50:\n",
    "    # Calculate the bill amount for the first slab\n",
    "    bill_amount = units * 2.60\n",
    "  elif units <= 100:\n",
    "    # Calculate the bill amount for the second slab\n",
    "    bill_amount = 130 + ((units - 50) * 3.25)\n",
    "  elif units <= 200:\n",
    "    # Calculate the bill amount for the third slab\n",
    "    bill_amount = 130 + 162.50 + ((units - 100) * 5.26)\n",
    "  elif units <= 300:\n",
    "    # Calculate the bill amount for the fourth slab\n",
    "    bill_amount = 130 + 162.50 + 263 + ((units - 200) * 8.45)\n",
    "  else:\n",
    "    # Calculate the bill amount for the fifth slab\n",
    "    bill_amount = 130 + 162.50 + 263 + 504 + ((units - 300) * 10.70)\n",
    "\n",
    "  # Return the bill amount\n",
    "  return bill_amount\n",
    "\n",
    "# Get the user input\n",
    "units = int(input(\"Enter the number of units consumed: \"))\n",
    "\n",
    "# Calculate the electricity bill\n",
    "bill_amount = calculate_electricity_bill(units)\n",
    "\n",
    "# Print the electricity bill\n",
    "print(\"The electricity bill is:\", bill_amount)"
   ]
  },
  {
   "cell_type": "markdown",
   "id": "6e318bc2-a408-44d0-ae28-44953cda4aaf",
   "metadata": {},
   "source": [
    "Create a program to determine the type of quadrilateral based on its angles and sides using elif\n",
    "statements.\n"
   ]
  },
  {
   "cell_type": "code",
   "execution_count": 8,
   "id": "b89bc721-bdce-4b9f-90f7-dc5c4035713a",
   "metadata": {},
   "outputs": [
    {
     "name": "stdout",
     "output_type": "stream",
     "text": [
      "Scalene Triangle\n"
     ]
    }
   ],
   "source": [
    "def checkTriangle(x, y, z):\n",
    "\tif x == y == z:\n",
    "\t\tprint(\"Equilateral Triangle\")\n",
    "\telif x == y or y == z or z == x:\n",
    "\t\tprint(\"Isosceles Triangle\")\n",
    "\telse:\n",
    "\t\tprint(\"Scalene Triangle\")\n",
    "\n",
    "\n",
    "x = 8\n",
    "y = 7\n",
    "z = 9\n",
    "\n",
    "\n",
    "checkTriangle(x, y, z)\n"
   ]
  },
  {
   "cell_type": "code",
   "execution_count": 9,
   "id": "d1289ace-afbf-4efa-ad41-a20c53167b2d",
   "metadata": {},
   "outputs": [
    {
     "name": "stdout",
     "output_type": "stream",
     "text": [
      "Equilateral Triangle\n"
     ]
    }
   ],
   "source": [
    "def checkTriangle(x, y, z):\n",
    "\tif x == y == z:\n",
    "\t\tprint(\"Equilateral Triangle\")\n",
    "\telif x == y or y == z or z == x:\n",
    "\t\tprint(\"Isosceles Triangle\")\n",
    "\telse:\n",
    "\t\tprint(\"Scalene Triangle\")\n",
    "\n",
    "\n",
    "x = 1\n",
    "y = 1\n",
    "z = 1\n",
    "\n",
    "\n",
    "checkTriangle(x, y, z)\n"
   ]
  },
  {
   "cell_type": "code",
   "execution_count": 10,
   "id": "9ff4b881-2d7a-4624-a5bf-13c9fea98d70",
   "metadata": {},
   "outputs": [
    {
     "name": "stdout",
     "output_type": "stream",
     "text": [
      "Isosceles Triangle\n"
     ]
    }
   ],
   "source": [
    "def checkTriangle(x, y, z):\n",
    "\tif x == y == z:\n",
    "\t\tprint(\"Equilateral Triangle\")\n",
    "\telif x == y or y == z or z == x:\n",
    "\t\tprint(\"Isosceles Triangle\")\n",
    "\telse:\n",
    "\t\tprint(\"Scalene Triangle\")\n",
    "\n",
    "\n",
    "x = 1\n",
    "y = 1\n",
    "z = 9\n",
    "\n",
    "\n",
    "checkTriangle(x, y, z)\n"
   ]
  },
  {
   "cell_type": "markdown",
   "id": "033c3451-11f3-45f1-b601-4d39899f083e",
   "metadata": {},
   "source": [
    "Write a Python script to determine the season based on a user-provided month using elif statements.\n"
   ]
  },
  {
   "cell_type": "code",
   "execution_count": 11,
   "id": "1f6dd3e3-6dfe-4a93-a475-3bff3993ae76",
   "metadata": {},
   "outputs": [
    {
     "name": "stdin",
     "output_type": "stream",
     "text": [
      "What month is it?  1\n"
     ]
    },
    {
     "name": "stdout",
     "output_type": "stream",
     "text": [
      "The season is winter\n"
     ]
    }
   ],
   "source": [
    "month = int(input(\"What month is it? \"))\n",
    "\n",
    "if month == 1 or month == 2 or month == 3:\n",
    "  season = \"winter\"\n",
    "elif month == 4 or month == 5 or month == 6:\n",
    "  season = \"spring\"\n",
    "elif month == 7 or month == 8 or month == 9:\n",
    "  season = \"summer\"\n",
    "elif month == 10 or month == 11 or month == 12:\n",
    "  season = \"autumn\"\n",
    "\n",
    "print(\"The season is\", season)\n"
   ]
  },
  {
   "cell_type": "code",
   "execution_count": 12,
   "id": "5b36e90e-6efa-4860-8b16-0485badf52bf",
   "metadata": {},
   "outputs": [
    {
     "name": "stdin",
     "output_type": "stream",
     "text": [
      "What month is it?  6\n"
     ]
    },
    {
     "name": "stdout",
     "output_type": "stream",
     "text": [
      "The season is spring\n"
     ]
    }
   ],
   "source": [
    "month = int(input(\"What month is it? \"))\n",
    "\n",
    "if month == 1 or month == 2 or month == 3:\n",
    "  season = \"winter\"\n",
    "elif month == 4 or month == 5 or month == 6:\n",
    "  season = \"spring\"\n",
    "elif month == 7 or month == 8 or month == 9:\n",
    "  season = \"summer\"\n",
    "elif month == 10 or month == 11 or month == 12:\n",
    "  season = \"autumn\"\n",
    "\n",
    "print(\"The season is\", season)"
   ]
  },
  {
   "cell_type": "code",
   "execution_count": 13,
   "id": "fc7814ce-1e26-4ef5-840b-d4e726e898ef",
   "metadata": {},
   "outputs": [
    {
     "name": "stdin",
     "output_type": "stream",
     "text": [
      "What month is it?  7\n"
     ]
    },
    {
     "name": "stdout",
     "output_type": "stream",
     "text": [
      "The season is summer\n"
     ]
    }
   ],
   "source": [
    "month = int(input(\"What month is it? \"))\n",
    "\n",
    "if month == 1 or month == 2 or month == 3:\n",
    "  season = \"winter\"\n",
    "elif month == 4 or month == 5 or month == 6:\n",
    "  season = \"spring\"\n",
    "elif month == 7 or month == 8 or month == 9:\n",
    "  season = \"summer\"\n",
    "elif month == 10 or month == 11 or month == 12:\n",
    "  season = \"autumn\"\n",
    "\n",
    "print(\"The season is\", season)"
   ]
  },
  {
   "cell_type": "code",
   "execution_count": 14,
   "id": "0866da27-5084-4a6a-8a5f-2031b630d308",
   "metadata": {},
   "outputs": [
    {
     "name": "stdin",
     "output_type": "stream",
     "text": [
      "What month is it?  11\n"
     ]
    },
    {
     "name": "stdout",
     "output_type": "stream",
     "text": [
      "The season is autumn\n"
     ]
    }
   ],
   "source": [
    "month = int(input(\"What month is it? \"))\n",
    "\n",
    "if month == 1 or month == 2 or month == 3:\n",
    "  season = \"winter\"\n",
    "elif month == 4 or month == 5 or month == 6:\n",
    "  season = \"spring\"\n",
    "elif month == 7 or month == 8 or month == 9:\n",
    "  season = \"summer\"\n",
    "elif month == 10 or month == 11 or month == 12:\n",
    "  season = \"autumn\"\n",
    "\n",
    "print(\"The season is\", season)\n"
   ]
  },
  {
   "cell_type": "markdown",
   "id": "0fc7a7ac-f20a-43fb-bfc2-01df63beb675",
   "metadata": {},
   "source": [
    "Implement a program to determine the type of a year (leap or common) and month (30 or 31 days) using\n",
    "elif statements.\n"
   ]
  },
  {
   "cell_type": "code",
   "execution_count": 15,
   "id": "7d1cbd2e-cc28-4744-89f5-9250922fd9b3",
   "metadata": {},
   "outputs": [
    {
     "name": "stdin",
     "output_type": "stream",
     "text": [
      "Enter a year:  2\n",
      "Enter a month:  3\n"
     ]
    },
    {
     "name": "stdout",
     "output_type": "stream",
     "text": [
      "The year 2 is a common year.\n",
      "The month 3 has 31 days.\n"
     ]
    }
   ],
   "source": [
    "def is_leap_year(year):\n",
    "    return (year % 4 == 0 and year % 100 != 0) or year % 400 == 0\n",
    "\n",
    "def get_number_of_days_in_month(month, year):\n",
    "    if month == 2:\n",
    "    return 29 if is_leap_year(year) else 28\n",
    "  elif month in [4, 6, 9, 11]:\n",
    "    return 30\n",
    "  else:\n",
    "    return 31\n",
    "\n",
    "def main():\n",
    "  year = int(input(\"Enter a year: \"))\n",
    "  month = int(input(\"Enter a month: \"))\n",
    "\n",
    "  print(\"The year {} is {}.\".format(year, \"a leap year\" if is_leap_year(year) else \"a common year\"))\n",
    "  print(\"The month {} has {} days.\".format(month, get_number_of_days_in_month(month, year)))\n",
    "\n",
    "if __name__ == \"__main__\":\n",
    "  main()"
   ]
  },
  {
   "cell_type": "markdown",
   "id": "8718a16c-4ba9-4d89-87b3-f2a25567839c",
   "metadata": {},
   "source": [
    "Write a Python program that checks if a given number is positive, negative, or zero.\n"
   ]
  },
  {
   "cell_type": "code",
   "execution_count": 3,
   "id": "fa2a515b-925b-4e4d-80ab-687dd71ad830",
   "metadata": {},
   "outputs": [
    {
     "name": "stdout",
     "output_type": "stream",
     "text": [
      "enter number is negative\n"
     ]
    }
   ],
   "source": [
    "number=-11\n",
    "\n",
    "if(number>=0):\n",
    "    if(number==0):\n",
    "      print(\"enter number is 0\")\n",
    "    else:\n",
    "        print(\"enter number is postive\")\n",
    "else:\n",
    "    print(\"enter number is negative\")\n"
   ]
  },
  {
   "cell_type": "code",
   "execution_count": 4,
   "id": "b3479f52-31ce-45df-890c-752915ce9de5",
   "metadata": {},
   "outputs": [
    {
     "name": "stdout",
     "output_type": "stream",
     "text": [
      "enter number is postive\n"
     ]
    }
   ],
   "source": [
    "number=10\n",
    "\n",
    "if(number>=0):\n",
    "    if(number==0):\n",
    "      print(\"enter number is 0\")\n",
    "    else:\n",
    "        print(\"enter number is postive\")\n",
    "else:\n",
    "    print(\"enter number is negative\")"
   ]
  },
  {
   "cell_type": "markdown",
   "id": "87d79eb1-4a53-4a9a-b66a-7569028dea69",
   "metadata": {},
   "source": [
    "Create a program to determine if a person is eligible to vote based on their age.\n"
   ]
  },
  {
   "cell_type": "code",
   "execution_count": 5,
   "id": "c45ae4e1-0f19-4e14-86cf-fc88ad8d32da",
   "metadata": {},
   "outputs": [
    {
     "name": "stdin",
     "output_type": "stream",
     "text": [
      "Enter age :   20\n"
     ]
    },
    {
     "name": "stdout",
     "output_type": "stream",
     "text": [
      "eligible to vote\n"
     ]
    }
   ],
   "source": [
    "age =int(input(\"Enter age :  \"))\n",
    "\n",
    "if age>18:\n",
    "    print(\"eligible to vote\")\n",
    "else:\n",
    "    print(\"not eligible to vote\")"
   ]
  },
  {
   "cell_type": "code",
   "execution_count": 6,
   "id": "ca67e62a-36ee-473a-9879-f007b1b3bcfe",
   "metadata": {},
   "outputs": [
    {
     "name": "stdin",
     "output_type": "stream",
     "text": [
      "Enter age :   15\n"
     ]
    },
    {
     "name": "stdout",
     "output_type": "stream",
     "text": [
      "not eligible to vote\n"
     ]
    }
   ],
   "source": [
    "age =int(input(\"Enter age :  \"))\n",
    "\n",
    "if age>18:\n",
    "    print(\"eligible to vote\")\n",
    "else:\n",
    "    print(\"not eligible to vote\")"
   ]
  },
  {
   "cell_type": "markdown",
   "id": "7f387e8a-be5a-4874-9dad-cd4ae30fb044",
   "metadata": {},
   "source": [
    " Write a program to find the maximum of two given numbers using conditional statements.\n"
   ]
  },
  {
   "cell_type": "code",
   "execution_count": 7,
   "id": "2f03bb31-55bc-4da9-b16d-576fda6eb09c",
   "metadata": {},
   "outputs": [
    {
     "name": "stdin",
     "output_type": "stream",
     "text": [
      "Enter the first number: 12\n",
      "Enter the second number: 22\n"
     ]
    },
    {
     "name": "stdout",
     "output_type": "stream",
     "text": [
      "22 is greater\n"
     ]
    }
   ],
   "source": [
    "num1=int(input(\"Enter the first number:\"))\n",
    "num2=int(input(\"Enter the second number:\"))\n",
    "\n",
    "if(num1 > num2):\n",
    "  print(num1, \"is greater\")\n",
    "elif(num1 < num2):\n",
    "    print(num2, \"is greater\")\n",
    "else:\n",
    "    print(\"Both are equal\")"
   ]
  },
  {
   "cell_type": "code",
   "execution_count": 9,
   "id": "c409eacb-2ab9-47d3-9c9b-9e0bccda8cb6",
   "metadata": {},
   "outputs": [
    {
     "name": "stdin",
     "output_type": "stream",
     "text": [
      "Enter the first number: 40\n",
      "Enter the second number: 30\n"
     ]
    },
    {
     "name": "stdout",
     "output_type": "stream",
     "text": [
      "40 is greater\n"
     ]
    }
   ],
   "source": [
    "num1=int(input(\"Enter the first number:\"))\n",
    "num2=int(input(\"Enter the second number:\"))\n",
    "\n",
    "if(num1 > num2):\n",
    "  print(num1, \"is greater\")\n",
    "elif(num1 < num2):\n",
    "    print(num2, \"is greater\")\n",
    "else:\n",
    "    print(\"Both are equal\")"
   ]
  },
  {
   "cell_type": "code",
   "execution_count": 10,
   "id": "126611b6-1043-45d6-8b84-27ea1937691b",
   "metadata": {},
   "outputs": [
    {
     "name": "stdin",
     "output_type": "stream",
     "text": [
      "Enter the first number: 50\n",
      "Enter the second number: 50\n"
     ]
    },
    {
     "name": "stdout",
     "output_type": "stream",
     "text": [
      "Both are equal\n"
     ]
    }
   ],
   "source": [
    "num1=int(input(\"Enter the first number:\"))\n",
    "num2=int(input(\"Enter the second number:\"))\n",
    "\n",
    "if(num1 > num2):\n",
    "  print(num1, \"is greater\")\n",
    "elif(num1 < num2):\n",
    "    print(num2, \"is greater\")\n",
    "else:\n",
    "    print(\"Both are equal\")"
   ]
  },
  {
   "cell_type": "markdown",
   "id": "947cf36d-8366-49cb-8562-424ae7a20686",
   "metadata": {},
   "source": [
    "Develop a program that calculates the grade of a student based on their exam score.\n"
   ]
  },
  {
   "cell_type": "code",
   "execution_count": 13,
   "id": "62f5ecf9-556e-44a8-8e2d-6cd091f87e69",
   "metadata": {},
   "outputs": [
    {
     "name": "stdout",
     "output_type": "stream",
     "text": [
      "excllent perfomance your grade A+\n"
     ]
    }
   ],
   "source": [
    "score=90\n",
    "if score>=90:\n",
    "    print(\"excllent perfomance your grade A+\")\n",
    "elif score>=80:\n",
    "    print(\"excllent perfomance your grade A\")\n",
    "elif score>=70:\n",
    "    print(\"excllent perfomance your grade B+\")\n",
    "elif score>=60:\n",
    "    print(\"excllent perfomance your grade B\")\n",
    "elif score>=50:\n",
    "    print(\"excllent perfomance your grade C+\")\n",
    "else:\n",
    "    print(\"excllent perfomance your grade c\")"
   ]
  },
  {
   "cell_type": "code",
   "execution_count": 16,
   "id": "cf7d6159-26b5-4bb5-9bb5-cbad6a16b6f8",
   "metadata": {},
   "outputs": [
    {
     "name": "stdout",
     "output_type": "stream",
     "text": [
      "excllent perfomance your grade C+\n"
     ]
    }
   ],
   "source": [
    "score=50\n",
    "if score>=90:\n",
    "    print(\"excllent perfomance your grade A+\")\n",
    "elif score>=80:\n",
    "    print(\"excllent perfomance your grade A\")\n",
    "elif score>=70:\n",
    "    print(\"excllent perfomance your grade B+\")\n",
    "elif score>=60:\n",
    "    print(\"excllent perfomance your grade B\")\n",
    "elif score>=50:\n",
    "    print(\"excllent perfomance your grade C+\")\n",
    "else:\n",
    "    print(\"excllent perfomance your grade c\")\n"
   ]
  },
  {
   "cell_type": "markdown",
   "id": "9d87fed1-35ec-4389-86e4-e3c4ae0fef63",
   "metadata": {},
   "source": [
    "Create a program that checks if a year is a leap year or not."
   ]
  },
  {
   "cell_type": "code",
   "execution_count": 24,
   "id": "ea904f35-4382-458c-9f03-103fa229b958",
   "metadata": {},
   "outputs": [],
   "source": [
    "def is_leap_year(year):\n",
    "\n",
    "  if year % 4 == 0:\n",
    "\n",
    "    # If the year is divisible by 100, check if it is also divisible by 400.\n",
    "    if year % 100 == 0:\n",
    "      return year % 400 == 0\n",
    "\n",
    "    else:\n",
    "      return True\n",
    "\n",
    "  else:\n",
    "    return False"
   ]
  },
  {
   "cell_type": "code",
   "execution_count": 25,
   "id": "22e86674-134a-485a-bedc-ea0ef74b48a6",
   "metadata": {},
   "outputs": [
    {
     "data": {
      "text/plain": [
       "True"
      ]
     },
     "execution_count": 25,
     "metadata": {},
     "output_type": "execute_result"
    }
   ],
   "source": [
    "is_leap_year(2020)"
   ]
  },
  {
   "cell_type": "code",
   "execution_count": 26,
   "id": "01244897-5339-4581-8441-26aa57b24dbb",
   "metadata": {},
   "outputs": [
    {
     "data": {
      "text/plain": [
       "False"
      ]
     },
     "execution_count": 26,
     "metadata": {},
     "output_type": "execute_result"
    }
   ],
   "source": [
    "is_leap_year(2021)"
   ]
  },
  {
   "cell_type": "markdown",
   "id": "63fc975d-8095-4bf7-92f8-38167f6965b9",
   "metadata": {},
   "source": [
    "Build a program that determines the largest of three given numbers.\n"
   ]
  },
  {
   "cell_type": "code",
   "execution_count": 7,
   "id": "9d4c6c99-9a70-4075-bff5-b8261c613111",
   "metadata": {},
   "outputs": [
    {
     "name": "stdin",
     "output_type": "stream",
     "text": [
      "enter the first number:  20\n",
      "enter the second number:  40\n",
      "enter the third number:  60\n"
     ]
    },
    {
     "name": "stdout",
     "output_type": "stream",
     "text": [
      "The largest number is 60\n"
     ]
    }
   ],
   "source": [
    "num1= int(input(\"enter the first number: \"))\n",
    "num2= int(input(\"enter the second number: \"))\n",
    "num3=  int(input(\"enter the third number: \"))\n",
    "         \n",
    "if num1>num2 and num1>num3 :\n",
    "    largest =num1\n",
    "elif num2>num1 and num2>num3:\n",
    "    largest =num2\n",
    "else:\n",
    "    largest=num3\n",
    "print(\"The largest number is\",largest)"
   ]
  },
  {
   "cell_type": "markdown",
   "id": "f9ee153b-8229-494c-b641-70566347df51",
   "metadata": {},
   "source": [
    "Develop a program that checks whether a character is a vowel or a consonant.\n"
   ]
  },
  {
   "cell_type": "code",
   "execution_count": 11,
   "id": "ebb637ab-ecc3-49ec-940e-35e680f95287",
   "metadata": {},
   "outputs": [
    {
     "name": "stdin",
     "output_type": "stream",
     "text": [
      "enter the string i\n"
     ]
    },
    {
     "name": "stdout",
     "output_type": "stream",
     "text": [
      "a character is a vowel\n"
     ]
    }
   ],
   "source": [
    "ch=str(input(\"enter the string\"))\n",
    "\n",
    "if(ch ==\"a\" or ch == \"e\" or ch==\"i\" or ch== \"o\" or ch == \"u\"):\n",
    "    print(\"a character is a vowel\")\n",
    "else:\n",
    "    print(\"a character is a consonant\")"
   ]
  },
  {
   "cell_type": "code",
   "execution_count": 12,
   "id": "2c3cab99-ca4a-4768-b6fc-cc1480e989d0",
   "metadata": {},
   "outputs": [
    {
     "name": "stdin",
     "output_type": "stream",
     "text": [
      "enter the string kapil\n"
     ]
    },
    {
     "name": "stdout",
     "output_type": "stream",
     "text": [
      "a character is a consonant\n"
     ]
    }
   ],
   "source": [
    "ch=str(input(\"enter the string\"))\n",
    "\n",
    "if(ch ==\"a\" or ch == \"e\" or ch==\"i\" or ch== \"o\" or ch == \"u\"):\n",
    "    print(\"a character is a vowel\")\n",
    "else:\n",
    "    print(\"a character is a consonant\")\n",
    "    "
   ]
  },
  {
   "cell_type": "markdown",
   "id": "8baae21d-1a6a-4bb3-a707-6a9221d36e69",
   "metadata": {},
   "source": [
    "\n",
    "Write a program that checks if a given number is even or odd.\n"
   ]
  },
  {
   "cell_type": "code",
   "execution_count": 18,
   "id": "528e8afe-ab24-4080-a654-81f3153a4120",
   "metadata": {},
   "outputs": [
    {
     "name": "stdin",
     "output_type": "stream",
     "text": [
      "enter the number even or odd:  2\n"
     ]
    },
    {
     "name": "stdout",
     "output_type": "stream",
     "text": [
      "number is even\n"
     ]
    }
   ],
   "source": [
    "num = int(input (\"enter the number even or odd: \"))\n",
    "if (num%2)==0:\n",
    "    print (\"number is even\")\n",
    "else:\n",
    "     Print(\"number is odd\")"
   ]
  },
  {
   "cell_type": "code",
   "execution_count": 24,
   "id": "bc136bdc-cf25-4cf7-b3e8-9566cf354a53",
   "metadata": {},
   "outputs": [
    {
     "name": "stdin",
     "output_type": "stream",
     "text": [
      "enter the number even or odd:  1\n"
     ]
    },
    {
     "name": "stdout",
     "output_type": "stream",
     "text": [
      "number is odd\n"
     ]
    }
   ],
   "source": [
    "num = int(input (\"enter the number even or odd: \"))\n",
    "if (num%2)==0:\n",
    "    print (\"number is even\")\n",
    "else:\n",
    "    print(\"number is odd\")"
   ]
  },
  {
   "cell_type": "code",
   "execution_count": 25,
   "id": "7edec26c-8aa3-4033-88e0-87fd9ec8b3bf",
   "metadata": {},
   "outputs": [
    {
     "name": "stdin",
     "output_type": "stream",
     "text": [
      "enter the number even or odd:  2\n"
     ]
    },
    {
     "name": "stdout",
     "output_type": "stream",
     "text": [
      "number is even\n"
     ]
    }
   ],
   "source": [
    "num = int(input (\"enter the number even or odd: \"))\n",
    "if (num%2)==0:\n",
    "    print (\"number is even\")\n",
    "else:\n",
    "    print(\"number is odd\")"
   ]
  },
  {
   "cell_type": "markdown",
   "id": "21bde282-b1e7-4a0a-919f-81fd475c5128",
   "metadata": {},
   "source": [
    "Write a program that calculates the roots of a quadratic equation"
   ]
  },
  {
   "cell_type": "code",
   "execution_count": 1,
   "id": "5797ff94-2aae-4ca5-a7a4-dc911ed50c99",
   "metadata": {},
   "outputs": [
    {
     "name": "stdin",
     "output_type": "stream",
     "text": [
      "Enter a:  20\n",
      "Enter b:  30\n",
      "Enter c:  40\n"
     ]
    },
    {
     "name": "stdout",
     "output_type": "stream",
     "text": [
      "The solution are (-0.75-1.1989578808281798j) and (-0.75+1.1989578808281798j)\n"
     ]
    }
   ],
   "source": [
    "# import complex math module  \n",
    "import cmath  \n",
    "a = float(input('Enter a: '))  \n",
    "b = float(input('Enter b: '))  \n",
    "c = float(input('Enter c: '))  \n",
    "  \n",
    "# calculate the discriminant  \n",
    "d = (b**2) - (4*a*c)  \n",
    "  \n",
    "# find two solutions  \n",
    "sol1 = (-b-cmath.sqrt(d))/(2*a)  \n",
    "sol2 = (-b+cmath.sqrt(d))/(2*a)  \n",
    "print('The solution are {0} and {1}'.format(sol1,sol2))"
   ]
  },
  {
   "cell_type": "markdown",
   "id": "78b4aa12-09fd-4140-8c5b-6ffb6783629c",
   "metadata": {},
   "source": [
    "Create a program that calculates the income tax based on the user's income and tax brackets."
   ]
  },
  {
   "cell_type": "code",
   "execution_count": 2,
   "id": "4df3ddd7-0801-426c-8c69-03ef5fdb3309",
   "metadata": {},
   "outputs": [
    {
     "name": "stdin",
     "output_type": "stream",
     "text": [
      "What's your \t\t\t\t\tannual income?\n",
      ">>>  20000\n"
     ]
    },
    {
     "name": "stdout",
     "output_type": "stream",
     "text": [
      "Total tax applicable at \t\t\t\t\t₹20000.0 is ₹0\n"
     ]
    }
   ],
   "source": [
    "def calculate(amount, percent):\n",
    "\treturn (amount * percent) / 100\n",
    "\n",
    "def calculate_income_tax(total_income:\n",
    "\t\t\t\t\t\tfloat) -> float:\n",
    "\n",
    "\tif total_income <= 250000:\n",
    "\t\treturn 0\n",
    "\telif total_income <= 500000:\n",
    "\t\treturn calculate(total_income -\n",
    "\t\t\t\t\t\t250000, 5)\n",
    "\telif total_income <= 750000:\n",
    "\t\treturn calculate(total_income -\n",
    "\t\t\t\t\t\t500000, 10) + 12500\n",
    "\telif total_income <= 1000000:\n",
    "\t\treturn calculate(total_income -\n",
    "\t\t\t\t\t\t750000, 15) + 37500\n",
    "\telif total_income <= 1250000:\n",
    "\t\treturn calculate(total_income -\n",
    "\t\t\t\t\t\t1000000, 20) + 75000\n",
    "\telif total_income <= 1500000:\n",
    "\t\treturn calculate(total_income -\n",
    "\t\t\t\t\t\t1250000, 25) + 125000\n",
    "\telse:\n",
    "\t\treturn calculate(total_income -\n",
    "\t\t\t\t\t\t1500000, 30) + 187500\n",
    "\n",
    "\n",
    "if __name__ == '__main__':\n",
    "\ttotal_income = float(input(\"What's your \\\n",
    "\t\t\t\t\tannual income?\\n>>> \"))\n",
    "\ttax = calculate_income_tax(total_income)\n",
    "\tprint(f\"Total tax applicable at \\\n",
    "\t\t\t\t\t₹{total_income} is ₹{tax}\")\n"
   ]
  },
  {
   "cell_type": "code",
   "execution_count": 3,
   "id": "0c5736c5-436d-467f-b743-291719eb4055",
   "metadata": {},
   "outputs": [
    {
     "name": "stdin",
     "output_type": "stream",
     "text": [
      "What's your \t\t\t\t\tannual income?\n",
      ">>>  500000\n"
     ]
    },
    {
     "name": "stdout",
     "output_type": "stream",
     "text": [
      "Total tax applicable at \t\t\t\t\t₹500000.0 is ₹12500.0\n"
     ]
    }
   ],
   "source": [
    "def calculate(amount, percent):\n",
    "\treturn (amount * percent) / 100\n",
    "\n",
    "def calculate_income_tax(total_income:\n",
    "\t\t\t\t\t\tfloat) -> float:\n",
    "\n",
    "\tif total_income <= 250000:\n",
    "\t\treturn 0\n",
    "\telif total_income <= 500000:\n",
    "\t\treturn calculate(total_income -\n",
    "\t\t\t\t\t\t250000, 5)\n",
    "\telif total_income <= 750000:\n",
    "\t\treturn calculate(total_income -\n",
    "\t\t\t\t\t\t500000, 10) + 12500\n",
    "\telif total_income <= 1000000:\n",
    "\t\treturn calculate(total_income -\n",
    "\t\t\t\t\t\t750000, 15) + 37500\n",
    "\telif total_income <= 1250000:\n",
    "\t\treturn calculate(total_income -\n",
    "\t\t\t\t\t\t1000000, 20) + 75000\n",
    "\telif total_income <= 1500000:\n",
    "\t\treturn calculate(total_income -\n",
    "\t\t\t\t\t\t1250000, 25) + 125000\n",
    "\telse:\n",
    "\t\treturn calculate(total_income -\n",
    "\t\t\t\t\t\t1500000, 30) + 187500\n",
    "\n",
    "\n",
    "if __name__ == '__main__':\n",
    "\ttotal_income = float(input(\"What's your \\\n",
    "\t\t\t\t\tannual income?\\n>>> \"))\n",
    "\ttax = calculate_income_tax(total_income)\n",
    "\tprint(f\"Total tax applicable at \\\n",
    "\t\t\t\t\t₹{total_income} is ₹{tax}\")\n"
   ]
  },
  {
   "cell_type": "markdown",
   "id": "6a353f89-4b0d-4a59-a3c2-e7f99e0b6246",
   "metadata": {},
   "source": [
    " Write a program that simulates a rock-paper-scissors game against the computer."
   ]
  },
  {
   "cell_type": "code",
   "execution_count": 6,
   "id": "12a0f14b-dbd3-42eb-8f5c-f635c67bac96",
   "metadata": {},
   "outputs": [
    {
     "name": "stdin",
     "output_type": "stream",
     "text": [
      "Enter a choice (rock, paper, scissors):  win,lose,win\n"
     ]
    },
    {
     "name": "stdout",
     "output_type": "stream",
     "text": [
      "\n",
      "You chose win,lose,win, computer chose rock.\n",
      "\n"
     ]
    }
   ],
   "source": [
    "import random\n",
    "\n",
    "user_action = input(\"Enter a choice (rock, paper, scissors): \")\n",
    "possible_actions = [\"rock\", \"paper\", \"scissors\"]\n",
    "computer_action = random.choice(possible_actions)\n",
    "print(f\"\\nYou chose {user_action}, computer chose {computer_action}.\\n\")\n",
    "\n",
    "if user_action == computer_action:\n",
    "    print(f\"Both players selected {user_action}. It's a tie!\")\n",
    "elif user_action == \"rock\":\n",
    "    if computer_action == \"scissors\":\n",
    "        print(\"Rock smashes scissors! You win!\")\n",
    "    else:\n",
    "        print(\"Paper covers rock! You lose.\")\n",
    "elif user_action == \"paper\":\n",
    "    if computer_action == \"rock\":\n",
    "        print(\"Paper covers rock! You win!\")\n",
    "    else:\n",
    "        print(\"Scissors cuts paper! You lose.\")\n",
    "elif user_action == \"scissors\":\n",
    "    if computer_action == \"paper\":\n",
    "        print(\"Scissors cuts paper! You win!\")\n",
    "    else:\n",
    "        print(\"Rock smashes scissors! You lose.\")"
   ]
  },
  {
   "cell_type": "markdown",
   "id": "860ffae6-d91e-45c3-8677-be1ebe68b61f",
   "metadata": {},
   "source": [
    "Develop a program that generates a random password based on user preferences (length, complexity).\n"
   ]
  },
  {
   "cell_type": "code",
   "execution_count": null,
   "id": "acad6ef4-2493-4566-89a8-0441e1e5bc80",
   "metadata": {},
   "outputs": [],
   "source": []
  }
 ],
 "metadata": {
  "kernelspec": {
   "display_name": "Python 3 (ipykernel)",
   "language": "python",
   "name": "python3"
  },
  "language_info": {
   "codemirror_mode": {
    "name": "ipython",
    "version": 3
   },
   "file_extension": ".py",
   "mimetype": "text/x-python",
   "name": "python",
   "nbconvert_exporter": "python",
   "pygments_lexer": "ipython3",
   "version": "3.10.8"
  }
 },
 "nbformat": 4,
 "nbformat_minor": 5
}
